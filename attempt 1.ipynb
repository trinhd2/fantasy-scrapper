{
 "cells": [
  {
   "cell_type": "code",
   "execution_count": 1,
   "metadata": {},
   "outputs": [
    {
     "name": "stdout",
     "output_type": "stream",
     "text": [
      "Week 1 .. Complete.\n"
     ]
    }
   ],
   "source": [
    "%matplotlib inline\n",
    "import matplotlib.pyplot as plt\n",
    "import requests\n",
    "import numpy as np\n",
    "import pandas as pd\n",
    "from bs4 import BeautifulSoup\n",
    "\n",
    "\n",
    "leagueId, seasonId = 1950807, 2018\n",
    "slot = 0\n",
    "\n",
    "df = pd.DataFrame(columns=['Player', 'Owner', 'Pts', 'Week'])\n",
    "\n",
    "print('Week ', end='')\n",
    "for week in range(1, 2):\n",
    "    print('%d .. ' % week, end='')\n",
    "    \n",
    "    # do first two \"pages\" of results\n",
    "    for si in [0, 50]:\n",
    "        r = requests.get('http://games.espn.com/ffl/leaders',\n",
    "                         params={'leagueId': leagueId, 'seasonId': seasonId, \n",
    "                                 'scoringPeriodId': week,\n",
    "                                 #'slotCategoryId': slot,\n",
    "                                 'startIndex': si})\n",
    "                         #,cookies={'SWID': swid, 'espn_s2': espn})\n",
    "        soup = BeautifulSoup(r.content, 'html.parser')\n",
    "        table = soup.find('table', class_='playerTableTable')\n",
    "        tdf = pd.read_html(str(table), flavor='bs4')[0]  # returns a list of df's, grab first\n",
    "        tdf = tdf.iloc[2:, [0,2,26]].reset_index(drop=True)\n",
    "        tdf.columns = ['Player', 'Owner', 'Pts']\n",
    "        #tdf['Pts'] = tdf['Pts'].fillna(0).astype('float')\n",
    "        tdf['Player'] = tdf['Player'].str.split(',').str[0]  # keep just player name\n",
    "        tdf['Week'] = week\n",
    "\n",
    "        df = df.append(tdf)\n",
    "        \n",
    "            # do first 3-4 \"pages\" of results\n",
    "    for si in [100, 150]:\n",
    "        r = requests.get('http://games.espn.com/ffl/leaders',\n",
    "                         params={'leagueId': leagueId, 'seasonId': seasonId, \n",
    "                                 'scoringPeriodId': week,\n",
    "                                 #'slotCategoryId': slot,\n",
    "                                 'startIndex': si})\n",
    "                         #,cookies={'SWID': swid, 'espn_s2': espn})\n",
    "        soup = BeautifulSoup(r.content, 'html.parser')\n",
    "        table = soup.find('table', class_='playerTableTable')\n",
    "        tdf = pd.read_html(str(table), flavor='bs4')[0]  # returns a list of df's, grab first\n",
    "        tdf = tdf.iloc[2:, [0,2,26]].reset_index(drop=True)\n",
    "        tdf.columns = ['Player', 'Owner', 'Pts']\n",
    "        tdf['Pts'] = tdf['Pts'].fillna(0)#.astype('float')\n",
    "        tdf['Player'] = tdf['Player'].str.split(',').str[0]  # keep just player name\n",
    "        tdf['Week'] = week\n",
    "\n",
    "        df = df.append(tdf)\n",
    "        \n",
    "\n",
    "        \n",
    "       \n",
    "print('Complete.')\n",
    "#print(df)\n",
    "df.to_csv('df test.csv')\n"
   ]
  },
  {
   "cell_type": "code",
   "execution_count": 2,
   "metadata": {},
   "outputs": [
    {
     "name": "stdout",
     "output_type": "stream",
     "text": [
      "         Player Owner Pts Week\n",
      "17  Julio Jones  EAME  23    1\n"
     ]
    }
   ],
   "source": [
    "print(df.loc[df['Player'] == 'Julio Jones'])"
   ]
  },
  {
   "cell_type": "code",
   "execution_count": 4,
   "metadata": {},
   "outputs": [
    {
     "name": "stdout",
     "output_type": "stream",
     "text": [
      "             Team Name  Example Team\n",
      "0   Ben Roethlisberger           NaN\n",
      "1         Alvin Kamara           NaN\n",
      "2         Le'Veon Bell           NaN\n",
      "3      Jamaal Williams           NaN\n",
      "4          Tyreek Hill           NaN\n",
      "5        Blake Bortles           NaN\n",
      "6          Josh Gordon           NaN\n",
      "7                  NaN           NaN\n",
      "8         Tyrod Taylor           NaN\n",
      "9          Kareem Hunt           NaN\n",
      "10       Melvin Gordon           NaN\n",
      "11        Adam Thielen           NaN\n",
      "12         Carlos Hyde           NaN\n",
      "13     Deandre Hopkins           NaN\n",
      "14      Jameis Winston           NaN\n",
      "                Player     Owner   Pts Week        Player Names\n",
      "0          Tyreek Hill        KK  38.8    1         Tyreek Hill\n",
      "1         Alvin Kamara      CUDD  38.6    1        Alvin Kamara\n",
      "2         Tyrod Taylor  WA (Wed)  23.6    1        Tyrod Taylor\n",
      "3        Melvin Gordon        KK  23.1    1       Melvin Gordon\n",
      "4        Blake Bortles  WA (Wed)  13.2    1       Blake Bortles\n",
      "5         Adam Thielen      SUKO  13.2    1        Adam Thielen\n",
      "6          Carlos Hyde      TRIN    13    1         Carlos Hyde\n",
      "7   Ben Roethlisberger      BOUR     9    1  Ben Roethlisberger\n",
      "8          Josh Gordon      TRIN   8.2    1         Josh Gordon\n",
      "9          Kareem Hunt        KK   4.9    1         Kareem Hunt\n",
      "10     Jamaal Williams      TRIN   4.7    1     Jamaal Williams\n",
      "11                 NaN       NaN   NaN  NaN        Le'Veon Bell\n",
      "12                 NaN       NaN   NaN  NaN                 NaN\n",
      "13                 NaN       NaN   NaN  NaN     Deandre Hopkins\n",
      "14                 NaN       NaN   NaN  NaN      Jameis Winston\n"
     ]
    }
   ],
   "source": [
    "\n",
    "df_int = pd.read_csv('Fantasy Example - Sheet1.csv', skip_blank_lines=False)\n",
    "print(df_int)\n",
    "\n",
    "list_names = []\n",
    "for x in df_int['Team Name']:\n",
    "    if x not in list_names:\n",
    "        list_names.append(x)\n",
    "df_names = pd.DataFrame(list_names, columns=['Player Names'])\n",
    "\n",
    "df_filter = pd.merge(df, df_names, how='right', left_on='Player', right_on='Player Names')\n",
    "\n",
    "print(df_filter)\n",
    "\n",
    "\n",
    "    \n",
    "  \n",
    "\n",
    "    "
   ]
  },
  {
   "cell_type": "code",
   "execution_count": 5,
   "metadata": {},
   "outputs": [
    {
     "name": "stderr",
     "output_type": "stream",
     "text": [
      "/anaconda3/lib/python3.6/site-packages/pandas/core/indexing.py:189: SettingWithCopyWarning: \n",
      "A value is trying to be set on a copy of a slice from a DataFrame\n",
      "\n",
      "See the caveats in the documentation: http://pandas.pydata.org/pandas-docs/stable/indexing.html#indexing-view-versus-copy\n",
      "  self._setitem_with_indexer(indexer, value)\n"
     ]
    },
    {
     "name": "stdout",
     "output_type": "stream",
     "text": [
      "             Team Name  Example Team\n",
      "0   Ben Roethlisberger           9.0\n",
      "1         Alvin Kamara          38.6\n",
      "2         Le'Veon Bell           0.0\n",
      "3      Jamaal Williams           4.7\n",
      "4          Tyreek Hill          38.8\n",
      "5        Blake Bortles          13.2\n",
      "6          Josh Gordon           8.2\n",
      "7              Total 1         112.5\n",
      "8         Tyrod Taylor          23.6\n",
      "9          Kareem Hunt           4.9\n",
      "10       Melvin Gordon          23.1\n",
      "11        Adam Thielen          13.2\n",
      "12         Carlos Hyde          13.0\n",
      "13     Deandre Hopkins           0.0\n",
      "14      Jameis Winston           0.0\n",
      "15             Total 2          77.8\n"
     ]
    }
   ],
   "source": [
    "#s = (df_int.loc[df_int['Team Name'] == 'Josh Gordon'])\n",
    "#print(df_int['Team Name'].iloc[1])\n",
    "for x in range(len(df_int)):\n",
    "    name = df_int['Team Name'].iloc[x]\n",
    "    s = (df_filter.loc[df_filter['Player'] == name])\n",
    "    #print(s)\n",
    "    values = (df_filter.loc[df_filter['Player'] == name])['Pts']\n",
    "    points = np.sum(values)\n",
    "    df_int['Example Team'].iloc[x] = float(points)\n",
    "    \n",
    "#df_int.loc['Total'] = df_int['Example Team'].sum()\n",
    "df_int['Team Name'].iloc[7] = 'Total 1'\n",
    "df_int['Example Team'].iloc[7] = df_int['Example Team'][0:7].sum()\n",
    "df_int.loc[15] = ['Total 2',df_int['Example Team'][8:15].sum()] \n",
    "\n",
    "print(df_int)"
   ]
  },
  {
   "cell_type": "code",
   "execution_count": null,
   "metadata": {},
   "outputs": [],
   "source": []
  },
  {
   "cell_type": "code",
   "execution_count": null,
   "metadata": {},
   "outputs": [],
   "source": []
  }
 ],
 "metadata": {
  "kernelspec": {
   "display_name": "Python 3",
   "language": "python",
   "name": "python3"
  },
  "language_info": {
   "codemirror_mode": {
    "name": "ipython",
    "version": 3
   },
   "file_extension": ".py",
   "mimetype": "text/x-python",
   "name": "python",
   "nbconvert_exporter": "python",
   "pygments_lexer": "ipython3",
   "version": "3.6.5"
  }
 },
 "nbformat": 4,
 "nbformat_minor": 2
}
